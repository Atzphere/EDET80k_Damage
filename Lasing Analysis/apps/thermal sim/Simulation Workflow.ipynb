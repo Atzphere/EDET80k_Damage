{
 "cells": [
  {
   "cell_type": "markdown",
   "id": "30f5c0a1-6f71-4ba4-aa0c-827eb6bf3bb9",
   "metadata": {},
   "source": [
    "Pre-import files"
   ]
  },
  {
   "cell_type": "code",
   "execution_count": 7,
   "id": "bd427e5e-f581-45a5-9acc-5d6f6c6195a7",
   "metadata": {},
   "outputs": [],
   "source": [
    "import simulationlib as sl\n",
    "import lasinglib as ll\n",
    "import measurelib as ml\n",
    "import numpy as np\n"
   ]
  }
 ],
 "metadata": {
  "kernelspec": {
   "display_name": "Python 3 (ipykernel)",
   "language": "python",
   "name": "python3"
  },
  "language_info": {
   "codemirror_mode": {
    "name": "ipython",
    "version": 3
   },
   "file_extension": ".py",
   "mimetype": "text/x-python",
   "name": "python",
   "nbconvert_exporter": "python",
   "pygments_lexer": "ipython3",
   "version": "3.11.3"
  }
 },
 "nbformat": 4,
 "nbformat_minor": 5
}
