{
 "cells": [
  {
   "cell_type": "markdown",
   "id": "6c976f17-0bc3-4ff0-b208-2789bb10c004",
   "metadata": {},
   "source": [
    "# Introduction to Pulse Generation with LasingLib\n",
    "LasingLib is the core of all interactions with both the annealing simulation and physically annealing the chip. Laser pulses created with this library can be fired, measured, and refined in-simulation. Once satisfied, they can be compiled into Cycle Code into annealing patterns.\n",
    "\n",
    "The core object of this library is the LaserPulse object. These represent lasing actions, and have a variety of attributes which envelope all the possible axes of manipulation one can employ with the physical laser.\n",
    "\n",
    "As per usual, clicking an object and pressing *shift-tab* will open its docstring for more information."
   ]
  },
  {
   "cell_type": "code",
   "execution_count": 1,
   "id": "cf5dfd61-915a-49c1-909e-831bb6578efa",
   "metadata": {},
   "outputs": [],
   "source": [
    "import lasinglib as ll\n",
    "import simulationlib as sl\n",
    "import shapes\n",
    "\n",
    "import numpy as np\n",
    "from IPython.display import HTML\n",
    "import matplotlib.pyplot as plt\n",
    "%matplotlib widget\n",
    "\n",
    "# initialize an environment to demonstrate pulses on\n",
    "\n",
    "CHIP = sl.SimGrid(dimension=32, resolution=101, thickness=0.03, use_spar=False,\n",
    "                  spar_thickness=0.5, spar_width=1)\n",
    "\n",
    "SILICON = sl.Material(diffusivity=88, emissivity=0.09, specific_heat=0.7, density=0.002329002)\n",
    "\n",
    "sim = sl.Simulation(CHIP, SILICON, duration=6, pulses=None, ambient_temp=300,\n",
    "                    starting_temp=300, neumann_bc=True,\n",
    "                    edge_derivative=0, sample_framerate=24, intended_pbs=1,\n",
    "                    dense_logging=False, timestep_multi=0.75, radiation=True, progress_bar=True, silent=False)"
   ]
  },
  {
   "cell_type": "markdown",
   "id": "e44e2ebd-0372-4a2f-9628-541d5d98f7b7",
   "metadata": {},
   "source": [
    "Here's an example of a simple laser pulse with the following properties:\n",
    "* Wait one second, then fire at full power for one second.\n",
    "* Full power is two watts in the simulation. Note that when converting to cycle code, this is interpreted as the amount of current to send to the laser.\n",
    "* Aim for the center of the chip.\n",
    "* Use the default value of sigma for the beam's radially gaussian intensity distribution in the simulator."
   ]
  },
  {
   "cell_type": "code",
   "execution_count": null,
   "id": "3115d821-ad7c-4464-b448-1d4467c6b240",
   "metadata": {},
   "outputs": [],
   "source": [
    "ex_pulse = ll.LaserPulse(grid=CHIP, start=1, duration=1, position=CHIP.CENTERPOINT, power=2, sigma=ll.DEFAULT_LASER_SIGMA)\n",
    "print(ex_pulse)"
   ]
  },
  {
   "cell_type": "markdown",
   "id": "98909703-453f-4327-b24a-715c0479f5e9",
   "metadata": {},
   "source": [
    "Note that the string representation of the pulse shows some important information. Full power of two watts, starting at one second, then holding for one second until a final end-time (in the simulation) of $t=2s$. \"NOMOD\" indicates that the beam's intensity is binary (on/off).\n",
    "\n",
    "## Modulation\n",
    "\n",
    "Let's make a more complicated pulse. This time, we'll add a modulation function to adjust the beam's intensity over time. This function $f(t)$ is evaluated at every simulation time point, and then multiplied by the beam's \"power\" attribute to give the actual output of the beam at that time.\n",
    "\n",
    "Technically, any function with the signature `float, params (optional) -> float` will work as a modulator.\n",
    "\n",
    "Generally, these functions should have the following characteristics:\n",
    "* **Intended working domain over the duration of the pulse**: The beam should be modulated through its duration to avoid unexpected behavior.\n",
    "* **Range of [0, 1]**: Negative beam power is obviously unphysical. Enforcing a maximum of 1 ensures that the maximum possible beam power is always known, and makes qualitative comparison of different functions i.e. in Desmos easier. When it comes to designing modulation patterns, Desmos is your friend. A small library of modulator-building functions can be found in the file `modulators.py`. When called, these will produce callables which can be plugged directly into a LaserPulse with no supporting parameters.\n",
    "\n",
    "A LaserPulse can take an arbitrary number of modulation functions. The final modulation profile will be their multiplicative sum:\n",
    "\n",
    "$P_{laser}(t) = P_{max} \\prod_{i=0} f_{i}(t, params_{i})$\n",
    "\n",
    "These functions are always evaluated on the **local** time of a pulse as opposed to that of the simulation. In other words, $t=0$ when the pulse is just beginning to fire.\n",
    "\n",
    "Our new pulse will have the same base characteristics as the previous pulse, but it will rapidly oscillate in intensity. It will fire a second after our first pulse is done."
   ]
  },
  {
   "cell_type": "code",
   "execution_count": null,
   "id": "d3b76f70-68f9-4c27-b007-838da9d13538",
   "metadata": {},
   "outputs": [],
   "source": [
    "def modulation_sinesquared(t, omega):\n",
    "    # return a squared sine wave as a function as time.\n",
    "    return np.sin(t * omega)**2\n",
    "\n",
    "ex_pulse_modulated = ll.LaserPulse(grid=CHIP, start=3, duration=1, position=CHIP.CENTERPOINT, power=2, sigma=ll.DEFAULT_LASER_SIGMA,\n",
    "                                     modulators=[modulation_sinesquared], params=[(9,)])"
   ]
  },
  {
   "cell_type": "markdown",
   "id": "94dcb770-7def-48a6-8f51-190c3c870c6b",
   "metadata": {},
   "source": [
    "Let's take a look at our two pulses. We plug a list of them into sim.pulses:"
   ]
  },
  {
   "cell_type": "code",
   "execution_count": null,
   "id": "535c7e70-22ae-4d2f-ae51-c167d63c0727",
   "metadata": {},
   "outputs": [],
   "source": [
    "sim.pulses = [ex_pulse, ex_pulse_modulated]\n",
    "sim.simulate()\n",
    "\n",
    "ani = sim.animate(cmap=\"magma\")\n",
    "plt.close()\n",
    "# use plt.show() for more rigorous examinations\n",
    "HTML(ani.to_jshtml())"
   ]
  },
  {
   "cell_type": "markdown",
   "id": "928477ac-ac20-4ac3-88d3-106e4fb8330d",
   "metadata": {},
   "source": [
    "## LaserStrobes\n",
    "A potentially useful subclass of LaserPulse is the LaserStrobe. These are used to simulate moving the beam over areas of the chip while still firing the laser. Unfortunately, the way galvometer control is currently implemented into TAP means that this doesn't produce the desired effect of \"tracing\" the beam. Because the motors move extremely quickly and we have no direct velocity control (cycle code commands and the underlying LABview code is done purely through sequences of positions), the beam will \"teleport\" between points instead of tracing a line.\n",
    "\n",
    "Nonetheless, simulating strobes might lead to interesting insights. The only difference between them and the base LaserPulse is that their position is parameterized by two functions $x(t), y(t)$. These are passed as a tuple, and a collection of primitive adjustable shapes can be found in the module `shapes.py`. Strobes can also be modulated in the same way as LaserPulses."
   ]
  },
  {
   "cell_type": "code",
   "execution_count": null,
   "id": "dbb203f2-3f03-490c-8698-4dd0332722a5",
   "metadata": {},
   "outputs": [],
   "source": [
    "# traced circular pattern with radius 10 and angular velocity omega = 96pi\n",
    "circle_parameterization = shapes.genericradial(omega=(96 * np.pi), r=(lambda t: 10), phase=-(np.pi / 2))\n",
    "\n",
    "ex_strobe = ll.LaserStrobe(grid=CHIP, start=1, duration=3, position=CHIP.CENTERPOINT, power=6, sigma=ll.DEFAULT_LASER_SIGMA,\n",
    "                           modulators=[modulation_sinesquared], params=[(9,)],\n",
    "                           parameterization=circle_parameterization)\n",
    "print(ex_strobe)"
   ]
  },
  {
   "cell_type": "markdown",
   "id": "4fc0007a-c2fa-4f7a-877a-a5dfbb122100",
   "metadata": {},
   "source": [
    "Visualizing:"
   ]
  },
  {
   "cell_type": "code",
   "execution_count": null,
   "id": "f21c0691-7b37-4396-a54c-585922654ce0",
   "metadata": {},
   "outputs": [],
   "source": [
    "sim.pulses = [ex_strobe]\n",
    "sim.simulate()\n",
    "\n",
    "ani = sim.animate(cmap=\"magma\")\n",
    "plt.close()\n",
    "# use plt.show() for more rigorous examinations\n",
    "HTML(ani.to_jshtml())"
   ]
  },
  {
   "cell_type": "markdown",
   "id": "c3e8a344-934f-40ff-a1e8-dda83b520be2",
   "metadata": {},
   "source": [
    "## LaserSequences\n",
    "Compiling and sorting large amounts of LaserPulses to create an annealing cycle can be tedious. The LaserSequence object addresses this by acting as a LaserPulse that takes an ordered list of pulses and their desired timings, then sequences them as desired. Delays between pulses can either be specified as a single value or an array of different delays per pulse.\n",
    "\n",
    "The intended workflow with LaserSequences is to first build a list of individual LaserPulses dynamically, then build a LaserSequence based off of that list. For example: the following code would assemble a an annealing sequence that fires sequential pulses over a grid:"
   ]
  },
  {
   "cell_type": "code",
   "execution_count": null,
   "id": "fe931bb9-fa84-412b-a33a-a8921fe4b257",
   "metadata": {},
   "outputs": [],
   "source": [
    "# number aranges to produce a grid\n",
    "x_coords = np.arange(4, 33, 7)\n",
    "y_coords = np.arange(4, 33, 7)\n",
    "\n",
    "# use a lower-resolution SimGrid for a faster simulation so that you aren't here all day\n",
    "chip_fast = sl.SimGrid(dimension=32, resolution=71, thickness=0.03, use_spar=False,\n",
    "                  spar_thickness=0.5, spar_width=1)\n",
    "\n",
    "# iterate over the grid, building a pulse for each location\n",
    "\n",
    "pulses = []\n",
    "\n",
    "for x in x_coords:\n",
    "    for y in y_coords:\n",
    "        # start time is arbitrary as the pulses will be arranged sequentially one put into a LaserSequence\n",
    "        pulses.append(ll.LaserPulse(grid=chip_fast, start=1, duration=0.1, position=(x, y), power=2, sigma=ll.DEFAULT_LASER_SIGMA))\n",
    "\n",
    "print(f\"Unordered list of pulses:\\n{pulses}\\n\")\n",
    "\n",
    "pulse_sequence = ll.LaserSequence(pulses, delay=0.15, start_time=1)\n",
    "\n",
    "print(f\"Ordered LaserSequence:\\n{pulse_sequence}\\n\")\n",
    "\n",
    "\n",
    "fig, ax = plt.subplots()\n",
    "plt.gca().set_aspect('equal')\n",
    "\n",
    "ax.set_title(\"Annealing Pattern on chip\")\n",
    "ax.plot(pulse_sequence.trace_x, pulse_sequence.trace_y, \"bo\")\n",
    "ax.set_ylabel(\"y (mm)\")\n",
    "ax.set_xlabel(\"x (mm)\")\n",
    "plt.show()"
   ]
  },
  {
   "cell_type": "markdown",
   "id": "64b576a5-cf58-4097-9647-822198f05725",
   "metadata": {},
   "source": [
    "Visualizing the sequence (with a lower-resolution simulation for brevity):"
   ]
  },
  {
   "cell_type": "code",
   "execution_count": null,
   "id": "a8e0ef81-010b-4eef-ad19-7799295f58c0",
   "metadata": {},
   "outputs": [],
   "source": [
    "sim_fast = sl.Simulation(chip_fast, SILICON, duration=pulse_sequence.duration, pulses=None, ambient_temp=300,\n",
    "                    starting_temp=300, neumann_bc=True,\n",
    "                    edge_derivative=0, sample_framerate=24, intended_pbs=1,\n",
    "                    dense_logging=False, timestep_multi=1, radiation=True, progress_bar=True, silent=False)\n",
    "\n",
    "sim_fast.pulses = [pulse_sequence]\n",
    "sim_fast.simulate()\n",
    "\n",
    "ani = sim_fast.animate(cmap=\"magma\")\n",
    "plt.close()\n",
    "# use plt.show() for more rigorous examinations\n",
    "HTML(ani.to_jshtml())"
   ]
  },
  {
   "cell_type": "markdown",
   "id": "9d6bd875-bdba-49e3-b88e-06f05361e65a",
   "metadata": {},
   "source": [
    "## Compilation to Cycle Code and the Annealing Database\n",
    "\n",
    "Once you have created the desired annealing cycle as a LaserSequence, you can compile it to \"cycle code\" for testing in the annealing chamber. Before doing so, you should confirm that the power settings you are using are correct. \n",
    "\n",
    "***Important note***: As of July 2024, the simulator interprets the power output of a laser pulse as in watts, whereas cycle code only control the amount of current directed to the laser diode at 10V. As a workaround for now until we can characterize the laser's power output as a function of current, You may have to adjust your LaserPulses' power to something that will be safe in the annealing chamber. \n",
    "\n",
    "***Please do not send six amps (or about thirty watts) into the actual chip.***"
   ]
  },
  {
   "cell_type": "code",
   "execution_count": null,
   "id": "63629d1c-86aa-4b74-b52e-a9b713b4597a",
   "metadata": {},
   "outputs": [],
   "source": [
    " # Save the LaserPulse to cycle code under \"example cycle code.txt\"\n",
    "\n",
    "sample_interval = 0.05 # sample period if a pulse has some sort of parameterization (either or both position and current modulation)\n",
    "pulse_sequence.write_to_cycle_code(\"./cycle code/example cycle code.txt\", time_interval = sample_interval)"
   ]
  },
  {
   "cell_type": "markdown",
   "id": "5de8eca5-5f9e-462e-84c3-282b19f08e0c",
   "metadata": {},
   "source": [
    "Note the parameter time_interval. If a pulse in the LaserSequence has any parameterized property (i.e. modulating amplitude over time), the compiler will sample the value of that modulation every `time_interval` seconds and write a new of cycle code. \n",
    "\n",
    "***IMPORTANT***\n",
    "\n",
    "While it may seem ideal to minimize this value for maximum resolution, this can be problematic as the cycle code interpreter in TAP takes a non-zero amount of time to send new lines to the annealing system. This can lead to pulses lasting longer than expected as the annealing cycle gets bottlenecked by hardware latency.\n",
    "\n",
    "Cycle code lines are formatted as:\n",
    "\n",
    "$XVoltage, YVoltage, HoldTime, LaserCurrent$\n",
    "\n",
    "Where XVoltage and YVoltage are values acquired through a calibrated Position-Voltage converter function. The calibration data is currently hard-coded to `calibratedPVCParameters - Copy.txt` as of July 2024. If the annealing chamber is ever re-calibrated, copy the calibration data from the TAP instance into here. \n",
    "\n",
    "Taking a look in the cycle code file, we see that each pulse has been translated into a series of on-off pulses at various locations in the chip.\n",
    "\n"
   ]
  },
  {
   "cell_type": "code",
   "execution_count": null,
   "id": "f03a76e4-bddc-4157-b874-f2dc21230879",
   "metadata": {},
   "outputs": [],
   "source": [
    "with open(\"./cycle code/example cycle code.txt\", \"r\") as f:\n",
    "    print(f.readlines())"
   ]
  },
  {
   "cell_type": "markdown",
   "id": "a3ad533e-4532-491f-bbc2-e608c9224a9b",
   "metadata": {},
   "source": [
    "## The Annealing Database\n",
    "It is important to keep track of what pulses have been applied to the chip in the past. The annealing development suite comes with a way to track these through the library `annealing_database`. \n",
    "\n",
    "Annealing databases are one-time-created pairs of a CSV file (the human readable database) and ChipRecord Python objects which hold the actual LaserPulse objects used in past pulses. The prior is serialized as a dill file.\n",
    "\n",
    "The following would create a new database called `example_database`. This would only be done once, with the introduction of a new chip/target for annealing. \n",
    "\n",
    "```python\n",
    "ad.ChipRecord(name=\"example_database\", dpath=\"./annealing records/example_database.dill\", csvpath=\"./annealing records/example_database.csv\")\n",
    "```\n",
    "\n",
    "To write to a database, initialize it with a DatabassWrapper instance pointing to the path of the database's dill file. You can then access the `ChipRecord` with `load_data()`, and by extension the pulse entry record `entry_data`. We will use a previously initalized database for this demonstration.\n"
   ]
  },
  {
   "cell_type": "code",
   "execution_count": null,
   "id": "87f4d92b-5a71-48a8-9e02-534a30db75cf",
   "metadata": {},
   "outputs": [],
   "source": [
    "import annealing_database as ad\n",
    "\n",
    "example_database_path = \"./annealing records/example_database.dill\"\n",
    "\n",
    "\n",
    "example_database = ad.DatabaseWrapper(example_database_path)\n",
    "print(example_database.load_data(), end=\"\\n\\n\")\n",
    "print(f\"Entries: {example_database.load_data().entry_data}\", end=\"\\n\\n\")\n",
    "\n",
    "print(f\"\\nThis database is linked to {example_database.load_data().csvpath}.\")\n",
    "example_database.visualize();"
   ]
  },
  {
   "cell_type": "markdown",
   "id": "02127da2-b3d7-416c-b91f-d3a8a7416e18",
   "metadata": {},
   "source": [
    "## Editing the CSV File\n",
    "\n",
    "If you open the associated csv file, you will find the same entries as are shown here. The CSV file is human-modifiable; you can add information to the Notes column or any other column as long as it correponds to the same row as a particular entry.\n",
    "\n",
    "Line parity between the CSV file and the ChipRecord is maintained. Deleting lines from the CSV file will cause the corresponding entries in the ChipRecord to be deleted as well. The suggested program to open these CSV files with is Excel. This functionality is here to add the ability to remove invalid/unfired entries from the database.\n",
    "\n",
    "## Writing to the database\n",
    "\n",
    "Once you have an annealing sequence finalized and ready to be fired, add it to the database:"
   ]
  },
  {
   "cell_type": "code",
   "execution_count": null,
   "id": "a2c2c09b-67ec-4f51-87fd-d74c68f65a9c",
   "metadata": {},
   "outputs": [],
   "source": [
    "example_database.write_sequence(pulse_sequence)"
   ]
  },
  {
   "cell_type": "code",
   "execution_count": null,
   "id": "058f450d-b318-4807-8b6a-592c02ad2686",
   "metadata": {},
   "outputs": [],
   "source": [
    "print(example_database.load_data().entry_data)\n",
    "example_database.visualize()"
   ]
  },
  {
   "cell_type": "markdown",
   "id": "5a3f1aa6-7694-4a82-9b93-c47783fb697c",
   "metadata": {},
   "source": [
    "## Database Backups\n",
    "The database supports backups of previous states in case important information is deleted. This is janky however, and it may be better to first see if you can revert to a previous Git commit."
   ]
  },
  {
   "cell_type": "code",
   "execution_count": null,
   "id": "1c208607-0282-4d7c-999f-35baafe7a348",
   "metadata": {},
   "outputs": [],
   "source": [
    "print(example_database.load_data().backups)"
   ]
  },
  {
   "cell_type": "markdown",
   "id": "4fc7fbe8-81f8-40a5-838c-8400e9494578",
   "metadata": {},
   "source": [
    "Backing up an instance is done with `backup()`"
   ]
  },
  {
   "cell_type": "code",
   "execution_count": null,
   "id": "8060cde1-1f44-432e-be64-af5f45304758",
   "metadata": {},
   "outputs": [],
   "source": [
    "last_backup_name = example_database.backup()  # this function returns the key of the backup made.\n",
    "print(example_database.load_data().backups)"
   ]
  },
  {
   "cell_type": "markdown",
   "id": "08ffe50f-edb7-4361-a624-1d9db2cbbf71",
   "metadata": {},
   "source": [
    "You can load previous backups. Note: this deletes all un-backed-up entries - do a backup first if you are unsure."
   ]
  },
  {
   "cell_type": "code",
   "execution_count": null,
   "id": "7d0e157c-2954-46bf-bc0b-c80e356f513f",
   "metadata": {},
   "outputs": [],
   "source": [
    "example_database.load_backup(\"Backup: 07/31/2024, 17:14:32\")\n",
    "example_database.visualize()"
   ]
  },
  {
   "cell_type": "markdown",
   "id": "a6734d25-8698-4abb-9b3a-3b2da51e524c",
   "metadata": {},
   "source": [
    "Finally, database backups can also be deleted."
   ]
  },
  {
   "cell_type": "code",
   "execution_count": null,
   "id": "ddf22790-768a-4fe3-a252-d2f831ccd859",
   "metadata": {},
   "outputs": [],
   "source": [
    "example_database.delete_backup(last_backup_name)\n",
    "print(example_database.load_data().backups)"
   ]
  }
 ],
 "metadata": {
  "kernelspec": {
   "display_name": "Python 3 (ipykernel)",
   "language": "python",
   "name": "python3"
  },
  "language_info": {
   "codemirror_mode": {
    "name": "ipython",
    "version": 3
   },
   "file_extension": ".py",
   "mimetype": "text/x-python",
   "name": "python",
   "nbconvert_exporter": "python",
   "pygments_lexer": "ipython3",
   "version": "3.11.9"
  }
 },
 "nbformat": 4,
 "nbformat_minor": 5
}
