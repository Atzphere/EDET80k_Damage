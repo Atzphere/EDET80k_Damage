{
 "cells": [
  {
   "cell_type": "markdown",
   "id": "7b180978-cac9-4c3e-8039-b2ec5fbad653",
   "metadata": {},
   "source": [
    "# Introduction\n",
    "\n",
    "Welcome to the the EDET80k annealing lasing analysis environment! The set of tools began development in 2024 to make the creation, execution, and recording of annealing test pulse sequences a seamless and easy-to-document process. This sequence of notebooks will act as a quick-start guide to using the tools we've developed, as well as a general overview of the the intent behind their creation.\n",
    "\n",
    "\n",
    "## Guide Overview\n",
    "\n",
    " \n",
    "| Part|Purpose  |\n",
    "|--|--|\n",
    "|1 | Overview of the analysis software suite |\n",
    "|2 | Simulation Overview|\n",
    "|3 | Developing Annealing Patterns|\n",
    "|4 | Simulation analysis|"
   ]
  },
  {
   "cell_type": "code",
   "execution_count": null,
   "id": "0a3955b9-bb9a-45a6-b5ba-ffeb15e9e4db",
   "metadata": {},
   "outputs": [],
   "source": []
  }
 ],
 "metadata": {
  "kernelspec": {
   "display_name": "Python 3 (ipykernel)",
   "language": "python",
   "name": "python3"
  },
  "language_info": {
   "codemirror_mode": {
    "name": "ipython",
    "version": 3
   },
   "file_extension": ".py",
   "mimetype": "text/x-python",
   "name": "python",
   "nbconvert_exporter": "python",
   "pygments_lexer": "ipython3",
   "version": "3.11.9"
  }
 },
 "nbformat": 4,
 "nbformat_minor": 5
}
