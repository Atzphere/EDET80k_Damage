{
 "cells": [
  {
   "cell_type": "markdown",
   "id": "30f5c0a1-6f71-4ba4-aa0c-827eb6bf3bb9",
   "metadata": {},
   "source": [
    "Pre-import modules and setup filepaths"
   ]
  },
  {
   "cell_type": "code",
   "execution_count": 1,
   "id": "bd427e5e-f581-45a5-9acc-5d6f6c6195a7",
   "metadata": {},
   "outputs": [],
   "source": [
    "%matplotlib ipympl\n",
    "import simulationlib as sl\n",
    "import lasinglib as ll\n",
    "import measurelib as ml\n",
    "\n",
    "import modulators as mo\n",
    "import shapes\n",
    "\n",
    "import numpy as np\n",
    "import matplotlib.pyplot as plt\n",
    "\n",
    "import logging\n",
    "import os\n",
    "\n",
    "from matplotlib import cm\n",
    "\n",
    "from scipy.optimize import curve_fit\n",
    "\n",
    "from tqdm.notebook import tqdm\n",
    "import multiprocess\n",
    "\n",
    "from scipy.special import erf\n",
    "\n",
    "from IPython.display import HTML\n",
    "\n",
    "os.chdir(os.path.abspath(''))\n",
    "\n",
    "logging.basicConfig()\n",
    "logging.getLogger().setLevel(logging.WARNING)"
   ]
  },
  {
   "cell_type": "markdown",
   "id": "bf581acb-79fe-47eb-80d3-a4234d286d06",
   "metadata": {},
   "source": [
    "Initialize simulation framework and useful constants"
   ]
  },
  {
   "cell_type": "code",
   "execution_count": 2,
   "id": "d0f81939-e96c-4668-9841-cb24e0b80dea",
   "metadata": {},
   "outputs": [
    {
     "name": "stdout",
     "output_type": "stream",
     "text": [
      "0.00030918173122445626\n"
     ]
    }
   ],
   "source": [
    "SILICON = sl.Material(diffusivity=88, emissivity=0.09, specific_heat=0.7, density=0.002329002)\n",
    "CHIP = sl.SimGrid(32, 97, 0.03, use_spar=False,\n",
    "                  spar_thickness=0.5, spar_width=1)\n",
    "\n",
    "sim = sl.Simulation(CHIP, SILICON, duration=4, pulses=None, ambient_temp=300,\n",
    "                    starting_temp=303, neumann_bc=False, \n",
    "                    edge_derivative=0, sample_framerate=0, intended_pbs=1,\n",
    "                    dense_logging=False, timestep_multi=1, radiation=True, progress_bar=True, silent=True)\n",
    "\n",
    "print(sim.TIMESTEP)\n",
    "\n",
    "EXPERIMENTAL_SIGMA = 0.769941159 # beam sigma, mm\n",
    "\n",
    "CENTER = (CHIP.CENTERPOINT)"
   ]
  },
  {
   "cell_type": "code",
   "execution_count": 3,
   "id": "5fc3d035-c64f-490c-88e5-25a119116ea4",
   "metadata": {},
   "outputs": [
    {
     "ename": "SyntaxError",
     "evalue": "expected ':' (770296154.py, line 19)",
     "output_type": "error",
     "traceback": [
      "\u001b[1;36m  Cell \u001b[1;32mIn[3], line 19\u001b[1;36m\u001b[0m\n\u001b[1;33m    def double_exp(t, )\u001b[0m\n\u001b[1;37m                       ^\u001b[0m\n\u001b[1;31mSyntaxError\u001b[0m\u001b[1;31m:\u001b[0m expected ':'\n"
     ]
    }
   ],
   "source": [
    "# hotspot temp sim\n",
    "ROI_max_temps = []\n",
    "powers = np.linspace(1, 9, 9)\n",
    "pos = (16, 16)\n",
    "duration = 3\n",
    "\n",
    "op = []\n",
    "\n",
    "def coupled_exp(t):\n",
    "    grow_const = 0.5\n",
    "    cutoff_time = np.log(2) / grow_const\n",
    "    if t < cutoff_time:\n",
    "        output = np.exp(grow_const * t) - 1\n",
    "    else:\n",
    "        output = np.exp(-(t - cutoff_time))\n",
    "    op.append(output)\n",
    "    return output\n",
    "\n",
    "def double_exp(t, )\n",
    "\n",
    "for p in powers:\n",
    "    print(f\"power: {p}\")\n",
    "    pulse = ll.LaserPulse(CHIP, start=0, duration=duration, position=pos, power=p, modulators=[coupled_exp],\n",
    "                          sigma=EXPERIMENTAL_SIGMA, measure_target=True, measure_tag=\"ROIpulse\", target_modes=[\"MAX\"], measure_padding=(0, 5.5))\n",
    "    sim.pulses = [pulse]\n",
    "    result = sim.simulate(analyzers=[])\n",
    "    ROI_max_temps.append(result['ROIpulse MAX 0'])\n",
    "\n",
    "time = result['ROIpulse time']"
   ]
  },
  {
   "cell_type": "code",
   "execution_count": null,
   "id": "083b7f41-4de8-4ce3-895d-a923e0b41d90",
   "metadata": {},
   "outputs": [],
   "source": [
    "plt.close(1)\n",
    "color = iter(cm.rainbow(np.linspace(0, 1, len(powers))))\n",
    "\n",
    "fig1, ax1 = plt.subplots(num=1)\n",
    "\n",
    "for num, (c, power) in enumerate(zip(color, powers)):\n",
    "    ax1.plot(time, ROI_max_temps[num], color=c)\n",
    "\n",
    "ax1.plot(time, op[:len(time)], color=\"black\")\n",
    "\n",
    "plt.show()"
   ]
  },
  {
   "cell_type": "code",
   "execution_count": null,
   "id": "276cd0b1-040a-478a-906f-2d01fca6c2b0",
   "metadata": {},
   "outputs": [],
   "source": [
    "plt.close(2)\n",
    "fig2, ax2 = plt.subplots(num=2)\n",
    "color = iter(cm.rainbow(np.linspace(0, 1, len(powers))))\n",
    "\n",
    "slopeind = 4000\n",
    "\n",
    "slopes = []\n",
    "\n",
    "for num, (c, power) in enumerate(zip(color, powers)):\n",
    "    grad = np.gradient(ROI_max_temps[num])\n",
    "    ax2.plot(time, grad, color=c)\n",
    "    slopes.append(grad[slopeind])\n",
    "plt.show()"
   ]
  },
  {
   "cell_type": "code",
   "execution_count": null,
   "id": "77429577-8018-414e-9290-69518992f7bc",
   "metadata": {},
   "outputs": [],
   "source": [
    "plt.close(3)\n",
    "fig3, ax3 = plt.subplots(num=3)\n",
    "\n",
    "ax3.plot(powers, np.abs(slopes), marker=\".\")\n",
    "plt.show()"
   ]
  },
  {
   "attachments": {},
   "cell_type": "markdown",
   "id": "8658b6f4-75b3-4921-8efa-20ab52eb9514",
   "metadata": {},
   "source": [
    "    "
   ]
  }
 ],
 "metadata": {
  "kernelspec": {
   "display_name": "Python 3 (ipykernel)",
   "language": "python",
   "name": "python3"
  },
  "language_info": {
   "codemirror_mode": {
    "name": "ipython",
    "version": 3
   },
   "file_extension": ".py",
   "mimetype": "text/x-python",
   "name": "python",
   "nbconvert_exporter": "python",
   "pygments_lexer": "ipython3",
   "version": "3.11.9"
  }
 },
 "nbformat": 4,
 "nbformat_minor": 5
}
