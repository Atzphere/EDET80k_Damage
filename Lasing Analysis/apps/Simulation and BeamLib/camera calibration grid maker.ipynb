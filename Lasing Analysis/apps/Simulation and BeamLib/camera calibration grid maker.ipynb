{
 "cells": [
  {
   "cell_type": "code",
   "execution_count": 1,
   "id": "cbfccb00-1a2a-4fcf-9186-cd81676d8891",
   "metadata": {},
   "outputs": [],
   "source": [
    "%matplotlib ipympl\n",
    "import matplotlib.pyplot as plt\n",
    "import simulationlib as sl\n",
    "import lasinglib as ll\n",
    "import measurelib as ml\n",
    "import numpy as np"
   ]
  },
  {
   "cell_type": "code",
   "execution_count": 2,
   "id": "55cbb0b7-a20b-452d-a2d7-af110261e1f0",
   "metadata": {},
   "outputs": [],
   "source": [
    "CHIP = sl.SimGrid(dimension=32, resolution=101, thickness=0.03, use_spar=False,\n",
    "                  spar_thickness=0.5, spar_width=1)"
   ]
  },
  {
   "cell_type": "code",
   "execution_count": 9,
   "id": "745774cf-3a4b-40dc-b7d3-49e80aa36f74",
   "metadata": {},
   "outputs": [],
   "source": [
    "coords = np.arange(1, 33, 2)\n",
    "xg, yg = np.meshgrid(coords, coords)\n"
   ]
  },
  {
   "cell_type": "code",
   "execution_count": 12,
   "id": "d62642ca-7091-4b70-a383-2040ce4cb2ea",
   "metadata": {},
   "outputs": [],
   "source": [
    "pulses = []\n",
    "\n",
    "for x in coords:\n",
    "    pulses.append(ll.LaserPulse(grid=CHIP, start=0, duration=0.03, position=(x, 0), power=1.5, sigma=ll.DEFAULT_LASER_SIGMA))\n",
    "for y in coords:\n",
    "    pulses.append(ll.LaserPulse(grid=CHIP, start=0, duration=0.03, position=(31, y), power=1.5, sigma=ll.DEFAULT_LASER_SIGMA))\n",
    "for x in coords:\n",
    "    pulses.append(ll.LaserPulse(grid=CHIP, start=0, duration=0.03, position=(31 - x, 31), power=1.5, sigma=ll.DEFAULT_LASER_SIGMA))\n",
    "for y in coords:\n",
    "    pulses.append(ll.LaserPulse(grid=CHIP, start=0, duration=0.03, position=(0, 31 - y), power=1.5, sigma=ll.DEFAULT_LASER_SIGMA))\n",
    "\n",
    "seq = ll.LaserSequence(pulses, delay=0.5, start_time=0)"
   ]
  },
  {
   "cell_type": "code",
   "execution_count": 13,
   "id": "465d02ec-ad96-40fc-96af-eb5b943fea03",
   "metadata": {},
   "outputs": [],
   "source": [
    "seq.write_to_cycle_code(\"cycle code/michaeltest1.txt\", 0.1)"
   ]
  },
  {
   "cell_type": "code",
   "execution_count": null,
   "id": "a52bac87-a3e8-47e5-b62e-572f03b7081a",
   "metadata": {},
   "outputs": [],
   "source": []
  }
 ],
 "metadata": {
  "kernelspec": {
   "display_name": "Python 3 (ipykernel)",
   "language": "python",
   "name": "python3"
  },
  "language_info": {
   "codemirror_mode": {
    "name": "ipython",
    "version": 3
   },
   "file_extension": ".py",
   "mimetype": "text/x-python",
   "name": "python",
   "nbconvert_exporter": "python",
   "pygments_lexer": "ipython3",
   "version": "3.11.9"
  }
 },
 "nbformat": 4,
 "nbformat_minor": 5
}
