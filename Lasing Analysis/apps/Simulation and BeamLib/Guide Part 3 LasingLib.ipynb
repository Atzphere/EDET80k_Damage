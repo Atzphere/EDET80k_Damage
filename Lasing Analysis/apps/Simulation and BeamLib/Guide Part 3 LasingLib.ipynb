{
 "cells": [
  {
   "cell_type": "markdown",
   "id": "6c976f17-0bc3-4ff0-b208-2789bb10c004",
   "metadata": {},
   "source": [
    "# Introduction to Pulse Generation with LasingLib\n",
    "LasingLib is the core of all interactions with both the annealing simulation and physically annealing the chip. Laser pulses created with this library can be fired, measured, and refined in-simulation. Once satisfied, they can be compiled into Cycle Code into annealing patterns.\n",
    "\n",
    "The core object of this library is the LaserPulse object. These represent lasing actions, and have a variety of attributes which envelope all the possible axes of manipulation one can employ with the physical laser.\n",
    "\n",
    "As per usual, clicking an object and pressing *shift-tab* will open its docstring for more information."
   ]
  },
  {
   "cell_type": "code",
   "execution_count": 1,
   "id": "cf5dfd61-915a-49c1-909e-831bb6578efa",
   "metadata": {},
   "outputs": [],
   "source": [
    "import lasinglib as ll\n",
    "import simulationlib as sl\n",
    "import shapes\n",
    "\n",
    "import numpy as np\n",
    "from IPython.display import HTML\n",
    "import matplotlib.pyplot as plt\n",
    "%matplotlib widget\n",
    "\n",
    "# initialize an environment to demonstrate pulses on\n",
    "\n",
    "CHIP = sl.SimGrid(dimension=32, resolution=101, thickness=0.03, use_spar=False,\n",
    "                  spar_thickness=0.5, spar_width=1)\n",
    "\n",
    "SILICON = sl.Material(diffusivity=88, emissivity=0.09, specific_heat=0.7, density=0.002329002)\n",
    "\n",
    "sim = sl.Simulation(CHIP, SILICON, duration=6, pulses=None, ambient_temp=300,\n",
    "                    starting_temp=300, neumann_bc=True,\n",
    "                    edge_derivative=0, sample_framerate=24, intended_pbs=1,\n",
    "                    dense_logging=False, timestep_multi=0.75, radiation=True, progress_bar=True, silent=False)"
   ]
  },
  {
   "cell_type": "markdown",
   "id": "e44e2ebd-0372-4a2f-9628-541d5d98f7b7",
   "metadata": {},
   "source": [
    "Here's an example of a simple laser pulse with the following properties:\n",
    "* Wait one second, then fire at full power for one second.\n",
    "* Full power is two watts in the simulation. Note that when converting to cycle code, this is interpreted as the amount of current to send to the laser.\n",
    "* Aim for the center of the chip.\n",
    "* Use the default value of sigma for the beam's radially gaussian intensity distribution in the simulator."
   ]
  },
  {
   "cell_type": "code",
   "execution_count": 2,
   "id": "3115d821-ad7c-4464-b448-1d4467c6b240",
   "metadata": {},
   "outputs": [
    {
     "name": "stdout",
     "output_type": "stream",
     "text": [
      "Pulse(2.000W, 1.000 + 1.000S -> 2.000NOMOD)\n"
     ]
    }
   ],
   "source": [
    "ex_pulse = ll.LaserPulse(grid=CHIP, start=1, duration=1, position=CHIP.CENTERPOINT, power=2, sigma=ll.DEFAULT_LASER_SIGMA)\n",
    "print(ex_pulse)"
   ]
  },
  {
   "cell_type": "markdown",
   "id": "98909703-453f-4327-b24a-715c0479f5e9",
   "metadata": {},
   "source": [
    "Note that the string representation of the pulse shows some important information. Full power of two watts, starting at one second, then holding for one second until a final end-time (in the simulation) of $t=2s$. \"NOMOD\" indicates that the beam's intensity is binary (on/off).\n",
    "\n",
    "## Modulation\n",
    "\n",
    "Let's make a more complicated pulse. This time, we'll add a modulation function to adjust the beam's intensity over time. This function $f(t)$ is evaluated at every simulation time point, and then multiplied by the beam's \"power\" attribute to give the actual output of the beam at that time.\n",
    "\n",
    "Technically, any function with the signature `float, params (optional) -> float` will work as a modulator.\n",
    "\n",
    "Generally, these functions should have the following characteristics:\n",
    "* **Intended working domain over the duration of the pulse**: The beam should be modulated through its duration to avoid unexpected behavior.\n",
    "* **Range of [0, 1]**: Negative beam power is obviously unphysical. Enforcing a maximum of 1 ensures that the maximum possible beam power is always known, and makes qualitative comparison of different functions i.e. in Desmos easier. When it comes to designing modulation patterns, Desmos is your friend. A small library of modulator-building functions can be found in the file `modulators.py`. When called, these will produce callables which can be plugged directly into a LaserPulse with no supporting parameters.\n",
    "\n",
    "A LaserPulse can take an arbitrary number of modulation functions. The final modulation profile will be their multiplicative sum:\n",
    "\n",
    "$P_{laser}(t) = P_{max} \\prod_{i=0} f_{i}(t, params_{i})$\n",
    "\n",
    "These functions are always evaluated on the **local** time of a pulse as opposed to that of the simulation. In other words, $t=0$ when the pulse is just beginning to fire.\n",
    "\n",
    "Our new pulse will have the same base characteristics as the previous pulse, but it will rapidly oscillate in intensity. It will fire a second after our first pulse is done."
   ]
  },
  {
   "cell_type": "code",
   "execution_count": null,
   "id": "d3b76f70-68f9-4c27-b007-838da9d13538",
   "metadata": {},
   "outputs": [],
   "source": [
    "def modulation_sinesquared(t, omega):\n",
    "    # return a squared sine wave as a function as time.\n",
    "    return np.sin(t * omega)**2\n",
    "\n",
    "ex_pulse_modulated = ll.LaserPulse(grid=CHIP, start=3, duration=1, position=CHIP.CENTERPOINT, power=2, sigma=ll.DEFAULT_LASER_SIGMA,\n",
    "                                     modulators=[modulation_sinesquared], params=[(9,)])"
   ]
  },
  {
   "cell_type": "markdown",
   "id": "94dcb770-7def-48a6-8f51-190c3c870c6b",
   "metadata": {},
   "source": [
    "Let's take a look at our two pulses. We plug a list of them into sim.pulses:"
   ]
  },
  {
   "cell_type": "code",
   "execution_count": null,
   "id": "535c7e70-22ae-4d2f-ae51-c167d63c0727",
   "metadata": {},
   "outputs": [],
   "source": [
    "sim.pulses = [ex_pulse, ex_pulse_modulated]\n",
    "sim.simulate()\n",
    "\n",
    "ani = sim.animate(cmap=\"magma\")\n",
    "plt.close()\n",
    "# use plt.show() for more rigorous examinations\n",
    "HTML(ani.to_jshtml())"
   ]
  },
  {
   "cell_type": "markdown",
   "id": "928477ac-ac20-4ac3-88d3-106e4fb8330d",
   "metadata": {},
   "source": [
    "## LaserStrobes\n",
    "A potentially useful subclass of LaserPulse is the LaserStrobe. These are used to simulate moving the beam over areas of the chip while still firing the laser. Unfortunately, the way galvometer control is currently implemented into TAP means that this doesn't produce the desired effect of \"tracing\" the beam. Because the motors move extremely quickly and we have no direct velocity control (cycle code commands and the underlying LABview code is done purely through sequences of positions), the beam will \"teleport\" between points instead of tracing a line.\n",
    "\n",
    "Nonetheless, simulating strobes might lead to interesting insights. The only difference between them and the base LaserPulse is that their position is parameterized by two functions $x(t), y(t)$. These are passed as a tuple, and a collection of primitive adjustable shapes can be found in the module `shapes.py`. Strobes can also be modulated in the same way as LaserPulses."
   ]
  },
  {
   "cell_type": "code",
   "execution_count": null,
   "id": "dbb203f2-3f03-490c-8698-4dd0332722a5",
   "metadata": {},
   "outputs": [],
   "source": [
    "# traced circular pattern with radius 10 and angular velocity omega = 96pi\n",
    "circle_parameterization = shapes.genericradial(omega=(96 * np.pi), r=(lambda t: 10), phase=-(np.pi / 2))\n",
    "\n",
    "ex_strobe = ll.LaserStrobe(grid=CHIP, start=1, duration=3, position=CHIP.CENTERPOINT, power=6, sigma=ll.DEFAULT_LASER_SIGMA,\n",
    "                           modulators=[modulation_sinesquared], params=[(9,)],\n",
    "                           parameterization=circle_parameterization)\n",
    "print(ex_strobe)"
   ]
  },
  {
   "cell_type": "markdown",
   "id": "4fc0007a-c2fa-4f7a-877a-a5dfbb122100",
   "metadata": {},
   "source": [
    "Visualizing:"
   ]
  },
  {
   "cell_type": "code",
   "execution_count": null,
   "id": "f21c0691-7b37-4396-a54c-585922654ce0",
   "metadata": {},
   "outputs": [],
   "source": [
    "sim.pulses = [ex_strobe]\n",
    "sim.simulate()\n",
    "\n",
    "ani = sim.animate(cmap=\"magma\")\n",
    "plt.close()\n",
    "# use plt.show() for more rigorous examinations\n",
    "HTML(ani.to_jshtml())"
   ]
  },
  {
   "cell_type": "markdown",
   "id": "c3e8a344-934f-40ff-a1e8-dda83b520be2",
   "metadata": {},
   "source": [
    "## LaserSequences\n",
    "Compiling and sorting large amounts of LaserPulses to create an annealing cycle can be tedious. The LaserSequence object addresses this by acting as a LaserPulse that takes an ordered list of pulses and their desired timings, then sequences them as desired. Delays between pulses can either be specified as a single value or an array of different delays per pulse.\n",
    "\n",
    "The intended workflow with LaserSequences is to first build a list of individual LaserPulses dynamically, then build a LaserSequence based off of that list. For example: the following code would assemble a an annealing sequence that fires sequential pulses over a grid:"
   ]
  },
  {
   "cell_type": "code",
   "execution_count": 4,
   "id": "fe931bb9-fa84-412b-a33a-a8921fe4b257",
   "metadata": {},
   "outputs": [
    {
     "name": "stdout",
     "output_type": "stream",
     "text": [
      "Unordered list of pulses:\n",
      "[Pulse(2.000W, 1.000 + 0.100S -> 1.100NOMOD), Pulse(2.000W, 1.000 + 0.100S -> 1.100NOMOD), Pulse(2.000W, 1.000 + 0.100S -> 1.100NOMOD), Pulse(2.000W, 1.000 + 0.100S -> 1.100NOMOD), Pulse(2.000W, 1.000 + 0.100S -> 1.100NOMOD), Pulse(2.000W, 1.000 + 0.100S -> 1.100NOMOD), Pulse(2.000W, 1.000 + 0.100S -> 1.100NOMOD), Pulse(2.000W, 1.000 + 0.100S -> 1.100NOMOD), Pulse(2.000W, 1.000 + 0.100S -> 1.100NOMOD), Pulse(2.000W, 1.000 + 0.100S -> 1.100NOMOD), Pulse(2.000W, 1.000 + 0.100S -> 1.100NOMOD), Pulse(2.000W, 1.000 + 0.100S -> 1.100NOMOD), Pulse(2.000W, 1.000 + 0.100S -> 1.100NOMOD), Pulse(2.000W, 1.000 + 0.100S -> 1.100NOMOD), Pulse(2.000W, 1.000 + 0.100S -> 1.100NOMOD), Pulse(2.000W, 1.000 + 0.100S -> 1.100NOMOD), Pulse(2.000W, 1.000 + 0.100S -> 1.100NOMOD), Pulse(2.000W, 1.000 + 0.100S -> 1.100NOMOD), Pulse(2.000W, 1.000 + 0.100S -> 1.100NOMOD), Pulse(2.000W, 1.000 + 0.100S -> 1.100NOMOD), Pulse(2.000W, 1.000 + 0.100S -> 1.100NOMOD), Pulse(2.000W, 1.000 + 0.100S -> 1.100NOMOD), Pulse(2.000W, 1.000 + 0.100S -> 1.100NOMOD), Pulse(2.000W, 1.000 + 0.100S -> 1.100NOMOD), Pulse(2.000W, 1.000 + 0.100S -> 1.100NOMOD)]\n",
      "\n",
      "Ordered LaserSequence:\n",
      "LaserSequence(['Pulse(2.000W, 1.000 + 0.100S -> 1.100NOMOD)', 'Pulse(2.000W, 1.250 + 0.100S -> 1.350NOMOD)', 'Pulse(2.000W, 1.500 + 0.100S -> 1.600NOMOD)', 'Pulse(2.000W, 1.750 + 0.100S -> 1.850NOMOD)', 'Pulse(2.000W, 2.000 + 0.100S -> 2.100NOMOD)', 'Pulse(2.000W, 2.250 + 0.100S -> 2.350NOMOD)', 'Pulse(2.000W, 2.500 + 0.100S -> 2.600NOMOD)', 'and 19 additional pulse(s).'])\n",
      "\n"
     ]
    },
    {
     "data": {
      "application/vnd.jupyter.widget-view+json": {
       "model_id": "bd0359d51a8947bf988351f7c0f2c9c8",
       "version_major": 2,
       "version_minor": 0
      },
      "image/png": "[encoded data removed]",
      "text/html": [
       "\n",
       "            <div style=\"display: inline-block;\">\n",
       "                <div class=\"jupyter-widgets widget-label\" style=\"text-align: center;\">\n",
       "                    Figure\n",
       "                </div>\n",
       "                <img src='data:image/png;base64,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' width=640.0/>\n",
       "            </div>\n",
       "        "
      ],
      "text/plain": [
       "Canvas(toolbar=Toolbar(toolitems=[('Home', 'Reset original view', 'home', 'home'), ('Back', 'Back to previous …"
      ]
     },
     "metadata": {},
     "output_type": "display_data"
    }
   ],
   "source": [
    "# number aranges to produce a grid\n",
    "x_coords = np.arange(4, 33, 7)\n",
    "y_coords = np.arange(4, 33, 7)\n",
    "\n",
    "# use a lower-resolution SimGrid for a faster simulation so that you aren't here all day\n",
    "chip_fast = sl.SimGrid(dimension=32, resolution=71, thickness=0.03, use_spar=False,\n",
    "                  spar_thickness=0.5, spar_width=1)\n",
    "\n",
    "# iterate over the grid, building a pulse for each location\n",
    "\n",
    "pulses = []\n",
    "\n",
    "for x in x_coords:\n",
    "    for y in y_coords:\n",
    "        # start time is arbitrary as the pulses will be arranged sequentially one put into a LaserSequence\n",
    "        pulses.append(ll.LaserPulse(grid=chip_fast, start=1, duration=0.1, position=(x, y), power=2, sigma=ll.DEFAULT_LASER_SIGMA))\n",
    "\n",
    "print(f\"Unordered list of pulses:\\n{pulses}\\n\")\n",
    "\n",
    "pulse_sequence = ll.LaserSequence(pulses, delay=0.15, start_time=1)\n",
    "\n",
    "print(f\"Ordered LaserSequence:\\n{pulse_sequence}\\n\")\n",
    "\n",
    "\n",
    "fig, ax = plt.subplots()\n",
    "plt.gca().set_aspect('equal')\n",
    "\n",
    "ax.set_title(\"Annealing Pattern on chip\")\n",
    "ax.plot(pulse_sequence.trace_x, pulse_sequence.trace_y, \"bo\")\n",
    "ax.set_ylabel(\"y (mm)\")\n",
    "ax.set_xlabel(\"x (mm)\")\n",
    "plt.show()"
   ]
  },
  {
   "cell_type": "markdown",
   "id": "64b576a5-cf58-4097-9647-822198f05725",
   "metadata": {},
   "source": [
    "Visualizing the sequence (with a lower-resolution simulation for brevity):"
   ]
  },
  {
   "cell_type": "code",
   "execution_count": null,
   "id": "a8e0ef81-010b-4eef-ad19-7799295f58c0",
   "metadata": {},
   "outputs": [],
   "source": [
    "sim_fast = sl.Simulation(chip_fast, SILICON, duration=pulse_sequence.duration, pulses=None, ambient_temp=300,\n",
    "                    starting_temp=300, neumann_bc=True,\n",
    "                    edge_derivative=0, sample_framerate=24, intended_pbs=1,\n",
    "                    dense_logging=False, timestep_multi=1, radiation=True, progress_bar=True, silent=False)\n",
    "\n",
    "sim_fast.pulses = [pulse_sequence]\n",
    "sim_fast.simulate()\n",
    "\n",
    "ani = sim_fast.animate(cmap=\"magma\")\n",
    "plt.close()\n",
    "# use plt.show() for more rigorous examinations\n",
    "HTML(ani.to_jshtml())"
   ]
  },
  {
   "cell_type": "markdown",
   "id": "9d6bd875-bdba-49e3-b88e-06f05361e65a",
   "metadata": {},
   "source": [
    "## Compilation to Cycle Code and the Annealing Database\n",
    "\n",
    "Once you have created the desired annealing cycle as a LaserSequence, you can compile it to \"cycle code\" for testing in the annealing chamber. Before doing so, you should confirm that the power settings you are using are correct. \n",
    "\n",
    "***Important note***: Note that cycle code and TAP works with laser output primarily in amps as opposed to watts. The LaserSequence cycle code compiler uses a lookup table to convert a target power to the current needed to achieve that output through the laser. The laser can output anywhere between 0.7-29.8W, but avoid going above 15W as you risk damaging the mirrors. This will still damage the chip if you are not careful. **Please do not send $30W$ into the actual chip!**"
   ]
  },
  {
   "cell_type": "code",
   "execution_count": null,
   "id": "63629d1c-86aa-4b74-b52e-a9b713b4597a",
   "metadata": {},
   "outputs": [],
   "source": [
    " # Save the LaserPulse to cycle code under \"example cycle code.txt\"\n",
    "\n",
    "CENTERING_OFFSETS = (-2, -1.5)\n",
    "\n",
    "sample_interval = 0.05 # sample period if a pulse has some sort of parameterization (either or both position and current modulation)\n",
    "pulse_sequence.write_to_cycle_code(\"./cycle code/example cycle code.txt\", time_interval = sample_interval, *CENTERING_OFFSETS)"
   ]
  },
  {
   "cell_type": "markdown",
   "id": "5de8eca5-5f9e-462e-84c3-282b19f08e0c",
   "metadata": {},
   "source": [
    "Note the parameter time_interval. If a pulse in the LaserSequence has any parameterized property (i.e. modulating amplitude over time), the compiler will sample the value of that modulation every `time_interval` seconds and write a new of cycle code. \n",
    "\n",
    "The `CENTERING_OFFSETS` are another important parameter that should be supplied for compilation. After automatic calibration, we manually translate the resulting coordinate system until it has approximate symmetry across the detector (i.e. the center point (16, 16) actually corresponds to the center of the detector. These offsets are provided in TAP's `settings.csv`: `pvcs_x_offset` and `pvcs_y_offset`, and the same values should be provided to `write_to_cycle_code`. Forgetting to do this may lead to confusing results. Unfortunately, this is currently a manually process... but you can change that!\n",
    "\n",
    "***IMPORTANT***\n",
    "\n",
    "While it may seem ideal to minimize `time_interval` for maximum temporal resolution, this can be problematic as the cycle code interpreter in TAP takes a non-zero amount of time to send new lines to the annealing system. This can lead to pulses lasting longer than expected as the annealing cycle gets bottlenecked by hardware latency.\n",
    "\n",
    "Cycle code lines are formatted as:\n",
    "\n",
    "$XVoltage, YVoltage, HoldTime, LaserCurrent$\n",
    "\n",
    "$XVoltage$ and $YVoltage$ are values acquired through a calibrated Position-Voltage converter function. The calibration data is currently hard-coded to `calibratedPVCParameters - Copy.txt` as of July 2024. If the annealing chamber is ever re-calibrated, copy the calibration data from the TAP instance into here. \n",
    "\n",
    "Taking a look in the cycle code file, we see that each pulse has been translated into a series of on-off pulses at various locations in the chip.\n",
    "\n"
   ]
  },
  {
   "cell_type": "code",
   "execution_count": 3,
   "id": "f03a76e4-bddc-4157-b874-f2dc21230879",
   "metadata": {},
   "outputs": [
    {
     "name": "stdout",
     "output_type": "stream",
     "text": [
      "['-1.349,0.645,0.100,1.424\\n', '-1.349,0.645,0.150,0.000\\n', '-1.336,1.716,0.100,1.424\\n', '-1.336,1.716,0.150,0.000\\n', '-1.324,2.788,0.100,1.424\\n', '-1.324,2.788,0.150,0.000\\n', '-1.312,3.860,0.100,1.424\\n', '-1.312,3.860,0.150,0.000\\n', '-1.299,4.931,0.100,1.424\\n', '-1.299,4.931,0.150,0.000\\n', '-0.300,0.578,0.100,1.424\\n', '-0.300,0.578,0.150,0.000\\n', '-0.288,1.650,0.100,1.424\\n', '-0.288,1.650,0.150,0.000\\n', '-0.275,2.721,0.100,1.424\\n', '-0.275,2.721,0.150,0.000\\n', '-0.263,3.793,0.100,1.424\\n', '-0.263,3.793,0.150,0.000\\n', '-0.250,4.865,0.100,1.424\\n', '-0.250,4.865,0.150,0.000\\n', '0.749,0.512,0.100,1.424\\n', '0.749,0.512,0.150,0.000\\n', '0.761,1.583,0.100,1.424\\n', '0.761,1.583,0.150,0.000\\n', '0.774,2.655,0.100,1.424\\n', '0.774,2.655,0.150,0.000\\n', '0.786,3.726,0.100,1.424\\n', '0.786,3.726,0.150,0.000\\n', '0.799,4.798,0.100,1.424\\n', '0.799,4.798,0.150,0.000\\n', '1.798,0.445,0.100,1.424\\n', '1.798,0.445,0.150,0.000\\n', '1.810,1.517,0.100,1.424\\n', '1.810,1.517,0.150,0.000\\n', '1.823,2.588,0.100,1.424\\n', '1.823,2.588,0.150,0.000\\n', '1.835,3.660,0.100,1.424\\n', '1.835,3.660,0.150,0.000\\n', '1.848,4.731,0.100,1.424\\n', '1.848,4.731,0.150,0.000\\n', '2.847,0.378,0.100,1.424\\n', '2.847,0.378,0.150,0.000\\n', '2.859,1.450,0.100,1.424\\n', '2.859,1.450,0.150,0.000\\n', '2.872,2.521,0.100,1.424\\n', '2.872,2.521,0.150,0.000\\n', '2.884,3.593,0.100,1.424\\n', '2.884,3.593,0.150,0.000\\n', '2.897,4.665,0.100,1.424\\n', '2.897,4.665,0.150,0.000\\n']\n"
     ]
    }
   ],
   "source": [
    "with open(\"./cycle code/example cycle code.txt\", \"r\") as f:\n",
    "    print(f.readlines())"
   ]
  },
  {
   "cell_type": "markdown",
   "id": "a3ad533e-4532-491f-bbc2-e608c9224a9b",
   "metadata": {},
   "source": [
    "## The Annealing Database\n",
    "It is important to keep track of what pulses have been applied to the chip in the past. The annealing development suite comes with a way to track these through the library `annealing_database`. \n",
    "\n",
    "Annealing databases are one-time-created pairs of a CSV file (the human readable database) and ChipRecord Python objects which hold the actual LaserPulse objects used in past pulses. The prior is serialized as a dill file.\n",
    "\n",
    "The following would create a new database called `example_database`. You would only do this once per new chip or annealing sample. \n",
    "\n",
    "```python\n",
    "adb2.new_chiprecord(name=\"example_database\", path=\"./annealing records/example database/\", dname=\"example_database.dill\", csvname=\"example_database.csv\")\n",
    "```\n",
    "\n",
    "To write to a database, initialize it with a DatabassWrapper instance pointing to the path of the database's dill file. You can then access the `ChipRecord` with `load_data()`, and by extension the pulse entry record `entry_data`. We will use a previously initalized database for this demonstration.\n"
   ]
  },
  {
   "cell_type": "code",
   "execution_count": null,
   "id": "87f4d92b-5a71-48a8-9e02-534a30db75cf",
   "metadata": {},
   "outputs": [],
   "source": [
    "import annealing_database2 as adb2\n",
    "example_database_path = \"./annealing records/example database/example_database.dill\"\n",
    "\n",
    "\n",
    "example_database = adb2.DatabaseWrapper(example_database_path)\n",
    "print(example_database.load_data(), end=\"\\n\\n\")\n",
    "print(f\"Entries: \\n{example_database.load_entries()}\", end=\"\\n\\n\")\n",
    "\n",
    "print(f\"\\nThis database is linked to {example_database.load_data().csvpath}.\")\n",
    "example_database.visualize();"
   ]
  },
  {
   "cell_type": "markdown",
   "id": "02127da2-b3d7-416c-b91f-d3a8a7416e18",
   "metadata": {},
   "source": [
    "## Editing the CSV File\n",
    "\n",
    "If you open the associated csv file, you will find the same entries as are shown here. The CSV file is human-modifiable; you can add information to the Notes column or any other column as long as it correponds to the same row as a particular entry.\n",
    "\n",
    "Line parity between the CSV file and the ChipRecord is maintained. Deleting lines from the CSV file will cause the corresponding entries in the ChipRecord to be deleted as well. The suggested program to open these CSV files with is Excel. This functionality is here to add the ability to remove invalid/unfired entries from the database.\n",
    "\n",
    "## Writing to the database\n",
    "\n",
    "Once you have an annealing sequence finalized and ready to be fired, add it to the database:"
   ]
  },
  {
   "cell_type": "code",
   "execution_count": null,
   "id": "a2c2c09b-67ec-4f51-87fd-d74c68f65a9c",
   "metadata": {},
   "outputs": [],
   "source": [
    "example_database.write_sequence(pulse_sequence, notes=\"new annealing pattern\")"
   ]
  },
  {
   "cell_type": "code",
   "execution_count": null,
   "id": "058f450d-b318-4807-8b6a-592c02ad2686",
   "metadata": {},
   "outputs": [],
   "source": [
    "print(f\"Entries: \\n{example_database.load_entries()}\", end=\"\\n\\n\")\n",
    "example_database.visualize()"
   ]
  },
  {
   "cell_type": "markdown",
   "id": "5a3f1aa6-7694-4a82-9b93-c47783fb697c",
   "metadata": {},
   "source": [
    "## Database Backups\n",
    "The database supports backups of previous states in case important information is deleted. This is janky however, and it may be better to first see if you can revert to a previous Git commit."
   ]
  },
  {
   "cell_type": "code",
   "execution_count": null,
   "id": "1c208607-0282-4d7c-999f-35baafe7a348",
   "metadata": {},
   "outputs": [],
   "source": [
    "print(list(example_database.get_backups()))"
   ]
  },
  {
   "cell_type": "markdown",
   "id": "4fc7fbe8-81f8-40a5-838c-8400e9494578",
   "metadata": {},
   "source": [
    "Backing up an instance is done with `backup()`"
   ]
  },
  {
   "cell_type": "code",
   "execution_count": null,
   "id": "8060cde1-1f44-432e-be64-af5f45304758",
   "metadata": {},
   "outputs": [],
   "source": [
    "last_backup_name = example_database.backup(\"new backup\")  # this function returns the key of the backup made.\n",
    "print(list(example_database.get_backups()))"
   ]
  },
  {
   "cell_type": "markdown",
   "id": "08ffe50f-edb7-4361-a624-1d9db2cbbf71",
   "metadata": {},
   "source": [
    "You can load previous backups. Note: this deletes all un-backed-up entries - do a backup first if you are unsure."
   ]
  },
  {
   "cell_type": "code",
   "execution_count": null,
   "id": "7d0e157c-2954-46bf-bc0b-c80e356f513f",
   "metadata": {},
   "outputs": [],
   "source": [
    "example_database.load_backup(\"Backup 10-25-2024, 16;16; pre-experimental backup.zip\")\n",
    "example_database.visualize()"
   ]
  },
  {
   "cell_type": "markdown",
   "id": "a6734d25-8698-4abb-9b3a-3b2da51e524c",
   "metadata": {},
   "source": [
    "Finally, database backups can also be deleted."
   ]
  },
  {
   "cell_type": "code",
   "execution_count": null,
   "id": "ddf22790-768a-4fe3-a252-d2f831ccd859",
   "metadata": {},
   "outputs": [],
   "source": [
    "example_database.delete_backup(last_backup_name)\n",
    "print(list(example_database.get_backups()))"
   ]
  }
 ],
 "metadata": {
  "kernelspec": {
   "display_name": "Python 3 (ipykernel)",
   "language": "python",
   "name": "python3"
  },
  "language_info": {
   "codemirror_mode": {
    "name": "ipython",
    "version": 3
   },
   "file_extension": ".py",
   "mimetype": "text/x-python",
   "name": "python",
   "nbconvert_exporter": "python",
   "pygments_lexer": "ipython3",
   "version": "3.11.4"
  }
 },
 "nbformat": 4,
 "nbformat_minor": 5
}
