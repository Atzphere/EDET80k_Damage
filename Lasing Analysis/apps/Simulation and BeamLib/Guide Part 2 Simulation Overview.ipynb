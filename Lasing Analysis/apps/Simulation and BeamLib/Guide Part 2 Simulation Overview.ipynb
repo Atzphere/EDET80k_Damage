{
 "cells": [
  {
   "cell_type": "markdown",
   "id": "ed984be6-8aca-4668-832a-3528a1ecbb92",
   "metadata": {},
   "source": [
    "# Simulation Overview\n",
    "Because shooting the chip in the chamber with the laser at annealing power is a tedious and permanent process, it should ideally be done only with a clear goal in mind i.e. as a part of an experiment. To aid in gaining familiarity with the thermal properties of the chip and the annealing process, we've developed an approximate thermal simulation of the chip with a strong suite of tools for simulating lasing actions and analyzing the results. The simulation library is spread across multiple modules, with the centerpiece being *simulationlib*:\n",
    "\n",
    "(Run the cells as you read through this. To access the docstring of any object in JupyerLab, click on it and press *shift-tab*.)"
   ]
  },
  {
   "cell_type": "code",
   "execution_count": null,
   "id": "35a814ef-6520-4c58-810f-50b8c23b531f",
   "metadata": {},
   "outputs": [],
   "source": [
    "import simulationlib as sl"
   ]
  },
  {
   "cell_type": "markdown",
   "id": "c48ea595-3638-4cf1-aaad-2a77ff26b2d4",
   "metadata": {},
   "source": [
    "The simulation works by solving the heat conduction equation in 2D using an explicit finite difference method. On top of conduction, we then simulate radiative cooling and any active laser flux. Effects such as conduction to the block holding the chip and its varying thickness are not simulated, making it more of a qualitative tool for learning and rapid prototyping. Most importantly, it's a valuable tool for verifying the intended behavior of annealing patterns before committing to having them fired at the chip. With some modification and experimentation, one could use it to also aid in searching parameter space for functional annealing pulses.\n",
    "\n",
    "We initalize the simulation by first defining its physical properties, namely the \"SimGrid\": a representation of the chip's physical dimensions as well as its 2D discretization for the simulation. We also supply the material, which in-practice will likely always be silicon as is done below: "
   ]
  },
  {
   "cell_type": "code",
   "execution_count": null,
   "id": "945ffecd-f218-4103-bc92-0b30e7a15bd4",
   "metadata": {},
   "outputs": [],
   "source": [
    "CHIP = sl.SimGrid(dimension=32, resolution=101, thickness=0.03, use_spar=False,\n",
    "                  spar_thickness=0.5, spar_width=1)\n",
    "\n",
    "SILICON = sl.Material(diffusivity=88, emissivity=0.09, specific_heat=0.7, density=0.002329002)\n",
    "\n",
    "sim = sl.Simulation(CHIP, SILICON, duration=13, pulses=None, ambient_temp=300,\n",
    "                    starting_temp=300, neumann_bc=True,\n",
    "                    edge_derivative=0, sample_framerate=24, intended_pbs=1,\n",
    "                    dense_logging=False, timestep_multi=1, radiation=True, progress_bar=True, silent=False)"
   ]
  },
  {
   "cell_type": "markdown",
   "id": "fc5cf987-1a56-4f7f-adb1-ef3781ee0c22",
   "metadata": {},
   "source": [
    "Simulation objects come with some useful object-specific helper constants for ease of use:"
   ]
  },
  {
   "cell_type": "code",
   "execution_count": null,
   "id": "a81bea34-67d0-4f6c-862b-6fc5f924ea73",
   "metadata": {},
   "outputs": [],
   "source": [
    "CENTER = sim.simgrid.CENTERPOINT\n",
    "CENTER_INDEX = sim.simgrid.half_grid\n",
    "\n",
    "print(f\"The middle of the chip is located at {CENTER}, or at the 2D indices {CENTER_INDEX, CENTER_INDEX}.\")"
   ]
  },
  {
   "cell_type": "markdown",
   "id": "6ea42b29-1222-4df1-977f-abc4e7a4a68d",
   "metadata": {},
   "source": [
    "## Interacting with the simulation\n",
    "There are two main classes of object to interact with the simulation: LaserPulses and Measurers. They are contained in their respective libraries\n",
    "*lasinglib* and *measurelib*."
   ]
  },
  {
   "cell_type": "code",
   "execution_count": null,
   "id": "4dd565d9-fc3b-42f8-8abf-72860604e2ff",
   "metadata": {},
   "outputs": [],
   "source": [
    "import lasinglib as ll\n",
    "import measurelib as ml"
   ]
  },
  {
   "cell_type": "markdown",
   "id": "98f9111c-18e6-4804-b53a-c67dd68c2b7f",
   "metadata": {},
   "source": [
    "**LaserPulses** are lasing actions or sequences of actions to be performed on the chip. They are designed in a way to also be usable with the physical annealing chamber itself. Pulses support arbitrary parameterizations w.r.t. time in both their position and intensity. More about designing these pulses will be discussed in part 3 of this guide."
   ]
  },
  {
   "cell_type": "code",
   "execution_count": null,
   "id": "2afaf114-6eb6-4567-8af2-6062a5ebf4a0",
   "metadata": {},
   "outputs": [],
   "source": [
    "import shapes\n",
    "import numpy as np\n",
    "\n",
    "# static laser pulse: on/on\n",
    "pulse_3s_2w = ll.LaserPulse(grid=CHIP, start=0.5, duration=3, position=CENTER, power=2, sigma=0.3)\n",
    "\n",
    "# laser pulse with parameterized intensity vs time\n",
    "pulse_sine_intensity_2w = ll.LaserPulse(grid=CHIP, start=4, duration=3, position=CENTER, power=2, sigma=0.3, modulators=[lambda t: np.abs(np.sin(t * 6 * np.pi))])\n",
    "\n",
    "# laser \"strobe\" with parameterized position vs time\n",
    "strobe_circle_2w = ll.LaserStrobe(grid=CHIP, start=8, duration = 3, position=CENTER, power=2, sigma=0.3,\n",
    "                                 parameterization=shapes.genericpolar(phi=lambda t: t * 2 * np.pi,\n",
    "                                                                      r=lambda t: 10 * np.sin(t * 8 * np.pi)))\n",
    "\n",
    "assert isinstance(strobe_circle_2w, ll.LaserPulse)"
   ]
  },
  {
   "cell_type": "markdown",
   "id": "bbbcb059-44da-4706-a051-c9720d94c893",
   "metadata": {},
   "source": [
    "**Measurers** are used to measure specific **MeasureAreas** of the simulation, and are triggered by **Measurers** at predefined points in time. Readings can be transformed through a variety of ways (see part 4):"
   ]
  },
  {
   "cell_type": "code",
   "execution_count": null,
   "id": "9cfeac12-586d-4411-ac6a-a7f6a9d3f4f3",
   "metadata": {},
   "outputs": [],
   "source": [
    "# let's isolate the left edge of the chip\n",
    "LEFT_EDGE = ml.MeasureArea(CHIP, (0, CHIP.center), lambda x, y: x == 0)\n",
    "\n",
    "# specifcally, let's measure its maximum temperature at a given time\n",
    "BORDER_MAXTEMP = ml.Measurement(LEFT_EDGE, modes=[\"MAX\"])\n",
    "\n",
    "# measure this between 4 to 7 seconds into the simulation\n",
    "RECORD_BMAXTEMP = ml.Measurer(4, 7, BORDER_MAXTEMP, \"BORDER\")\n",
    "\n",
    "\n",
    "# let's see what's happening in the middle too\n",
    "CENTERPOINT = ml.MeasureArea(CHIP, CENTER, lambda x, y: np.logical_and(x == 0, y == 0))\n",
    "CENTERMEASURE = ml.Measurement(CENTERPOINT, modes=[\"MEAN\"])\n",
    "RECORD_CENTER_TEMPERATURE = ml.Measurer(0, 10, CENTERMEASURE, \"CENTER\")"
   ]
  },
  {
   "cell_type": "markdown",
   "id": "33b93814-e998-4bc6-a16c-199eafcc5515",
   "metadata": {},
   "source": [
    "Once initialized, laser pulses can be added to the simulation, and then the simulation can be executed with a set of listening Measurers:\n"
   ]
  },
  {
   "cell_type": "code",
   "execution_count": null,
   "id": "7e6152db-a425-44eb-aaf7-d211ba212c5e",
   "metadata": {},
   "outputs": [],
   "source": [
    "import matplotlib.pyplot as plt  # for visualization later on\n",
    "%matplotlib widget\n",
    "\n",
    "sim.pulses = [pulse_3s_2w, pulse_sine_intensity_2w, strobe_circle_2w]\n",
    "\n",
    "sim.simulate(analyzers=[RECORD_BMAXTEMP, RECORD_CENTER_TEMPERATURE]);"
   ]
  },
  {
   "cell_type": "markdown",
   "id": "1f626f61-b5fe-4230-b9a1-dfd666cc15bc",
   "metadata": {},
   "source": [
    "## Analyzing Results\n",
    "Once a simulation has been ran, its state evolution and the data from any measuremers specified can be accessed through a dictionary. You can also generate an animated visualization for qualitative analysis."
   ]
  },
  {
   "cell_type": "code",
   "execution_count": null,
   "id": "8c3ec752-c654-4661-9a1b-a087c9eda25e",
   "metadata": {
    "scrolled": true
   },
   "outputs": [],
   "source": [
    "from IPython.display import HTML\n",
    "\n",
    "ani = sim.animate(cmap=\"magma\")\n",
    "plt.close()\n",
    "# use plt.show() for more rigorous examinations\n",
    "HTML(ani.to_jshtml())"
   ]
  },
  {
   "cell_type": "markdown",
   "id": "425cc4f5-f432-4187-8e06-9c418d831d8d",
   "metadata": {},
   "source": [
    "Measurer results as well as captures of the raw simulation states are accessed through a dictionary."
   ]
  },
  {
   "cell_type": "code",
   "execution_count": null,
   "id": "42a59c22-e686-4bf3-a71b-fbb3f0c05d04",
   "metadata": {},
   "outputs": [],
   "source": [
    "data = sim.recorded_data\n",
    "print(data.keys())"
   ]
  },
  {
   "cell_type": "code",
   "execution_count": null,
   "id": "29d9a52f-fbfb-4283-acfc-0ef094de1d13",
   "metadata": {
    "scrolled": true
   },
   "outputs": [],
   "source": [
    "plt.plot(data[\"CENTER time\"], data[\"CENTER MEAN\"])\n",
    "plt.title(\"Temperature of center pixel with respect to time\")\n",
    "plt.xlabel(\"Time (s)\")\n",
    "plt.ylabel(\"Temperature (K)\")"
   ]
  },
  {
   "cell_type": "markdown",
   "id": "46ca42b2-0dbf-4433-aa64-5f8edcfb388a",
   "metadata": {},
   "source": [
    "Some measurers have multiple outputs. In the case of BORDER MAX, it records both the maximum temperature as well as the location of the hottest pixel.\n",
    "Additional datasets have enumerated keys as seen above."
   ]
  },
  {
   "cell_type": "code",
   "execution_count": null,
   "id": "594b3bce-35c5-4c66-a1c4-0e53e2bb8621",
   "metadata": {},
   "outputs": [],
   "source": [
    "fig, ax = plt.subplots(3)\n",
    "fig.tight_layout()\n",
    "\n",
    "ax[0].set_title(\"Max temperature of left border over time\")\n",
    "ax[0].set_ylabel(\"Max temperature (K)\")\n",
    "ax[0].plot(data[\"BORDER time\"], data[\"BORDER MAX 0\"]) # maximum temperature vs time\n",
    "\n",
    "ax[1].set_title(\"X position of hotspot along left border over time\")\n",
    "ax[1].plot(data[\"BORDER time\"], data[\"BORDER MAX 1\"]) # x position of hotspot vs time (doesn't change since the left border is vertical)\n",
    "ax[1].set_ylabel(\"Hotspot x position (index)\")\n",
    "\n",
    "ax[2].set_title(\"Y position of hotspot along left border over time\")\n",
    "ax[2].plot(data[\"BORDER time\"], data[\"BORDER MAX 2\"]) # y position of hotspot vs time\n",
    "ax[2].set_ylabel(\"Hotspot y position (index)\")\n",
    "ax[2].set_xlabel(\"Time (s)\")\n",
    "\n",
    "plt.show()"
   ]
  },
  {
   "cell_type": "markdown",
   "id": "bbc9b9af-15a2-4491-ae61-91c33761c8a3",
   "metadata": {},
   "source": [
    "## Data storage\n",
    "\n",
    "Simulation objects in any state can be serialized to pickle (dill) files. These can then be quickly accessed for future analysis."
   ]
  },
  {
   "cell_type": "code",
   "execution_count": null,
   "id": "50180aa4-289b-4684-9110-db00b0240671",
   "metadata": {},
   "outputs": [],
   "source": [
    "sim.save(\"example_saved.dill\", auto=False)"
   ]
  },
  {
   "cell_type": "code",
   "execution_count": null,
   "id": "2eb53ebb-6818-45f9-885a-003e99f1ef12",
   "metadata": {},
   "outputs": [],
   "source": [
    "loaded_sim = sl.load_sim(\"example_saved.dill\")"
   ]
  },
  {
   "cell_type": "code",
   "execution_count": null,
   "id": "86659a99-7896-4cc2-9b91-101d738b01bd",
   "metadata": {},
   "outputs": [],
   "source": [
    "print(loaded_sim)\n",
    "print(loaded_sim.recorded_data.keys())"
   ]
  },
  {
   "cell_type": "markdown",
   "id": "30edffb2-9638-4688-adb7-cdc96197dfe9",
   "metadata": {},
   "source": [
    "## Compiling Annealing Patterns\n",
    "\n",
    "After verification (ideally) through simulation, one can convert a set of laser pulses to TAP-compatible cycle code for physical chip testing. Before doing this, be sure you want to shoot the chip and review the workflow outline detailed in Part 1. All shots on the chip should be documented in a database. \n",
    "\n",
    "Additional information on what LaserSequences are and cycle code compilation can be found in Part 3."
   ]
  },
  {
   "cell_type": "code",
   "execution_count": null,
   "id": "1c02fbbc-50e2-473d-afa0-2c82a390a6cd",
   "metadata": {},
   "outputs": [],
   "source": [
    "tested_pulses = ll.LaserSequence(sim.pulses, 1, 0)\n",
    "tested_pulses.write_to_cycle_code(\"example.txt\", 0.05)"
   ]
  },
  {
   "cell_type": "code",
   "execution_count": null,
   "id": "9ed0b29a-aaf3-40eb-87ad-b4f4d57972d8",
   "metadata": {},
   "outputs": [],
   "source": []
  }
 ],
 "metadata": {
  "kernelspec": {
   "display_name": "Python 3 (ipykernel)",
   "language": "python",
   "name": "python3"
  },
  "language_info": {
   "codemirror_mode": {
    "name": "ipython",
    "version": 3
   },
   "file_extension": ".py",
   "mimetype": "text/x-python",
   "name": "python",
   "nbconvert_exporter": "python",
   "pygments_lexer": "ipython3",
   "version": "3.11.9"
  }
 },
 "nbformat": 4,
 "nbformat_minor": 5
}
