{
 "cells": [
  {
   "cell_type": "markdown",
   "id": "6463e3f5-c244-44aa-a7a9-0f7815c1a20d",
   "metadata": {},
   "source": [
    "## Use this file to create new annealing databases whenever you have a new sample you want to test."
   ]
  },
  {
   "cell_type": "code",
   "execution_count": 1,
   "id": "b4329f63-f172-4807-a80f-9d608bef8572",
   "metadata": {},
   "outputs": [],
   "source": [
    "import annealing_database2 as adb2"
   ]
  },
  {
   "cell_type": "code",
   "execution_count": 9,
   "id": "fe61e9b8-9d74-44dc-be1a-07c13c2ebfde",
   "metadata": {},
   "outputs": [],
   "source": [
    "# Configure the database here:\n",
    "\n",
    "database_name = \"50um TiW Matrix 2\"\n",
    "database_fname = \"matrix2.dill\"\n",
    "csv_fname = \"matrix2.csv\"\n",
    "\n",
    "# if you want to overwrite an existing database:\n",
    "OVERWRITE = False\n",
    "\n",
    "# you probably don't need to edit this\n",
    "RECORD_LIBRARY =  \"./annealing records/\""
   ]
  },
  {
   "cell_type": "code",
   "execution_count": null,
   "id": "4b1dcfb3-c3a5-4223-85cf-67c81c806857",
   "metadata": {},
   "outputs": [],
   "source": []
  },
  {
   "cell_type": "code",
   "execution_count": 10,
   "id": "32db3e8b-a987-46c2-9a74-ba864cf5a201",
   "metadata": {},
   "outputs": [
    {
     "data": {
      "text/plain": [
       "<annealing_database2.ChipRecord at 0x21f6a841790>"
      ]
     },
     "execution_count": 10,
     "metadata": {},
     "output_type": "execute_result"
    }
   ],
   "source": [
    "# Create the new chiprecord.\n",
    "adb2.new_chiprecord(name=database_name, path=f\"{RECORD_LIBRARY}{database_name}\", dname=database_fname, csvname=csv_fname, overwrite=OVERWRITE, backup_frequency=3)"
   ]
  },
  {
   "cell_type": "code",
   "execution_count": null,
   "id": "1fcc28d6-09cc-4ddf-9b5f-595d5176c43a",
   "metadata": {},
   "outputs": [],
   "source": []
  }
 ],
 "metadata": {
  "kernelspec": {
   "display_name": "Python 3 (ipykernel)",
   "language": "python",
   "name": "python3"
  },
  "language_info": {
   "codemirror_mode": {
    "name": "ipython",
    "version": 3
   },
   "file_extension": ".py",
   "mimetype": "text/x-python",
   "name": "python",
   "nbconvert_exporter": "python",
   "pygments_lexer": "ipython3",
   "version": "3.11.4"
  }
 },
 "nbformat": 4,
 "nbformat_minor": 5
}
