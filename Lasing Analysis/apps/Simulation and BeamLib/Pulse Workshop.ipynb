{
 "cells": [
  {
   "cell_type": "code",
   "execution_count": 1,
   "id": "af0e1099-61c1-4f24-b8f0-8840e50246fc",
   "metadata": {},
   "outputs": [],
   "source": [
    "import simulationlib as sl\n",
    "import lasinglib as ll\n",
    "import measurelib as ml\n",
    "\n",
    "import modulators as mo\n",
    "import shapes\n",
    "\n",
    "import numpy as np\n",
    "import matplotlib.pyplot as plt\n",
    "\n",
    "import logging\n",
    "import os"
   ]
  },
  {
   "cell_type": "code",
   "execution_count": 4,
   "id": "5a41295b-4524-4965-bbb4-4c9ef983b762",
   "metadata": {},
   "outputs": [
    {
     "name": "stdout",
     "output_type": "stream",
     "text": [
      "['__builtins__', '__cached__', '__doc__', '__file__', '__loader__', '__name__', '__package__', '__spec__', 'doubleGaussianRamp', 'doubleSinePulse', 'make_exp_pulse', 'math', 'normal_curve', 'np']\n"
     ]
    }
   ],
   "source": [
    "CHIP = sl.SimGrid(dimension=32, resolution=101, thickness=0.03, use_spar=False,\n",
    "                  spar_thickness=0.5, spar_width=1)\n",
    "\n",
    "print(dir(mo))"
   ]
  }
 ],
 "metadata": {
  "kernelspec": {
   "display_name": "Python 3 (ipykernel)",
   "language": "python",
   "name": "python3"
  },
  "language_info": {
   "codemirror_mode": {
    "name": "ipython",
    "version": 3
   },
   "file_extension": ".py",
   "mimetype": "text/x-python",
   "name": "python",
   "nbconvert_exporter": "python",
   "pygments_lexer": "ipython3",
   "version": "3.11.9"
  }
 },
 "nbformat": 4,
 "nbformat_minor": 5
}
